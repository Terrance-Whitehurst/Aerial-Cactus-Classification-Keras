{
 "cells": [
  {
   "cell_type": "markdown",
   "metadata": {
    "_uuid": "277115f6cf47d45c8bd119e9ea731ccc997bb9c7"
   },
   "source": [
    "# Project Paper\n",
    "### Here is the link to the research paper for this dataset\n",
    "### https://jivasquez.files.wordpress.com/2019/03/rp_cactus_recognition_elsa-1.pdf"
   ]
  },
  {
   "cell_type": "markdown",
   "metadata": {
    "_uuid": "dae69d050928492b84a83e9634f8f2a1df247b04"
   },
   "source": [
    "# Import Dependencies\n",
    "### Load in the libraries that you will need"
   ]
  },
  {
   "cell_type": "code",
   "execution_count": 1,
   "metadata": {
    "_cell_guid": "b1076dfc-b9ad-4769-8c92-a6c4dae69d19",
    "_uuid": "8f2839f25d086af736a60e9eeb907d3b93b6e0e5"
   },
   "outputs": [
    {
     "name": "stderr",
     "output_type": "stream",
     "text": [
      "Using TensorFlow backend.\n"
     ]
    }
   ],
   "source": [
    "#-------Import Dependencies-------#\n",
    "%matplotlib inline\n",
    "import pandas as pd\n",
    "import os,shutil,math,scipy,cv2\n",
    "import numpy as np\n",
    "import matplotlib.pyplot as plt\n",
    "import random as rn\n",
    "\n",
    "\n",
    "from sklearn.utils import shuffle\n",
    "from sklearn.metrics import classification_report\n",
    "from sklearn.model_selection import train_test_split\n",
    "from sklearn.preprocessing import LabelEncoder\n",
    "from sklearn.metrics import confusion_matrix,roc_curve,auc\n",
    "\n",
    "from PIL import Image\n",
    "from PIL import Image as pil_image\n",
    "from PIL import ImageDraw\n",
    "\n",
    "from time import time\n",
    "from glob import glob\n",
    "from tqdm import tqdm\n",
    "from skimage.io import imread\n",
    "from IPython.display import SVG\n",
    "\n",
    "from scipy import misc,ndimage\n",
    "from scipy.ndimage.interpolation import zoom\n",
    "from scipy.ndimage import imread\n",
    "\n",
    "\n",
    "from keras import backend as K\n",
    "from keras.utils.np_utils import to_categorical\n",
    "from keras import layers\n",
    "from keras.preprocessing.image import save_img\n",
    "from keras.utils.vis_utils import model_to_dot\n",
    "from keras.applications.vgg16 import VGG16,preprocess_input\n",
    "from keras.applications.xception import Xception\n",
    "from keras.applications.nasnet import NASNetMobile\n",
    "from keras.models import Sequential,Input,Model\n",
    "from keras.layers import Dense,Flatten,Dropout,Concatenate,GlobalAveragePooling2D,Lambda,ZeroPadding2D\n",
    "from keras.layers import SeparableConv2D,BatchNormalization,MaxPooling2D,Conv2D\n",
    "from keras.preprocessing.image import ImageDataGenerator\n",
    "from keras.optimizers import Adam,SGD\n",
    "from keras.utils.vis_utils import plot_model\n",
    "from keras.callbacks import ModelCheckpoint,EarlyStopping,TensorBoard,CSVLogger,ReduceLROnPlateau,LearningRateScheduler"
   ]
  },
  {
   "cell_type": "markdown",
   "metadata": {
    "_uuid": "4e45b874820db8bb3fa38e470bc056a6537c4c78"
   },
   "source": [
    "# Custom Function\n",
    "### function for visualizing training results"
   ]
  },
  {
   "cell_type": "code",
   "execution_count": 2,
   "metadata": {
    "_cell_guid": "79c7e3d0-c299-4dcb-8224-4455121ee9b0",
    "_uuid": "d629ff2d2480ee46fbb7e2d37f6b5fab8052498a"
   },
   "outputs": [],
   "source": [
    "def show_final_history(history):\n",
    "    fig, ax = plt.subplots(1, 2, figsize=(15,5))\n",
    "    ax[0].set_title('loss')\n",
    "    ax[0].plot(history.epoch, history.history[\"loss\"], label=\"Train loss\")\n",
    "    ax[0].plot(history.epoch, history.history[\"val_loss\"], label=\"Validation loss\")\n",
    "    ax[1].set_title('acc')\n",
    "    ax[1].plot(history.epoch, history.history[\"acc\"], label=\"Train acc\")\n",
    "    ax[1].plot(history.epoch, history.history[\"val_acc\"], label=\"Validation acc\")\n",
    "    ax[0].legend()\n",
    "    ax[1].legend()"
   ]
  },
  {
   "cell_type": "markdown",
   "metadata": {
    "_uuid": "10e3bc01e5c34f6141cc86e4f01a0d57f1398615"
   },
   "source": [
    "# Image Preprocessing\n",
    "### Thank to Keras ImageDataGenerator for image preprocessing and data augmentation"
   ]
  },
  {
   "cell_type": "code",
   "execution_count": 3,
   "metadata": {
    "_uuid": "7845c672211030c910986a12a131513124fa1d3c"
   },
   "outputs": [
    {
     "name": "stdout",
     "output_type": "stream",
     "text": [
      "Found 17500 images belonging to 2 classes.\n",
      "Found 4000 images belonging to 2 classes.\n"
     ]
    }
   ],
   "source": [
    "augs_gen = ImageDataGenerator(\n",
    "    rescale=1. / 255,\n",
    "    shear_range=0.2,\n",
    "    zoom_range=0.2,\n",
    "    horizontal_flip=True,\n",
    "    vertical_flip=True)  \n",
    "\n",
    "train_gen = augs_gen.flow_from_directory(\n",
    "    '../input/training_set/training_set',\n",
    "    target_size = (32,32),\n",
    "    batch_size=32,\n",
    "    shuffle=True,\n",
    "    class_mode = 'binary'\n",
    ")\n",
    "\n",
    "test_gen = augs_gen.flow_from_directory(\n",
    "    '../input/validation_set/validation_set/',\n",
    "    target_size=(32,32),\n",
    "    batch_size=32,\n",
    "    shuffle=False,\n",
    "    class_mode = 'binary'\n",
    ")"
   ]
  },
  {
   "cell_type": "markdown",
   "metadata": {
    "_uuid": "8d747c0df6aa1a822bdaf87d4f42afe880b78514"
   },
   "source": [
    "# Model\n",
    "### This is the LE-Net5 model from the research paper for this dataset"
   ]
  },
  {
   "cell_type": "code",
   "execution_count": 4,
   "metadata": {
    "_uuid": "ce2ac4cc104498804fe6c097b7120b2e988eb5ad"
   },
   "outputs": [
    {
     "name": "stdout",
     "output_type": "stream",
     "text": [
      "WARNING:tensorflow:From /opt/conda/lib/python3.6/site-packages/tensorflow/python/framework/op_def_library.py:263: colocate_with (from tensorflow.python.framework.ops) is deprecated and will be removed in a future version.\n",
      "Instructions for updating:\n",
      "Colocations handled automatically by placer.\n",
      "WARNING:tensorflow:From /opt/conda/lib/python3.6/site-packages/keras/backend/tensorflow_backend.py:3445: calling dropout (from tensorflow.python.ops.nn_ops) with keep_prob is deprecated and will be removed in a future version.\n",
      "Instructions for updating:\n",
      "Please use `rate` instead of `keep_prob`. Rate should be set to `rate = 1 - keep_prob`.\n",
      "_________________________________________________________________\n",
      "Layer (type)                 Output Shape              Param #   \n",
      "=================================================================\n",
      "conv2d_1 (Conv2D)            (None, 28, 28, 6)         456       \n",
      "_________________________________________________________________\n",
      "batch_normalization_1 (Batch (None, 28, 28, 6)         24        \n",
      "_________________________________________________________________\n",
      "max_pooling2d_1 (MaxPooling2 (None, 14, 14, 6)         0         \n",
      "_________________________________________________________________\n",
      "conv2d_2 (Conv2D)            (None, 10, 10, 16)        2416      \n",
      "_________________________________________________________________\n",
      "batch_normalization_2 (Batch (None, 10, 10, 16)        64        \n",
      "_________________________________________________________________\n",
      "max_pooling2d_2 (MaxPooling2 (None, 5, 5, 16)          0         \n",
      "_________________________________________________________________\n",
      "flatten_1 (Flatten)          (None, 400)               0         \n",
      "_________________________________________________________________\n",
      "dense_1 (Dense)              (None, 120)               48120     \n",
      "_________________________________________________________________\n",
      "dense_2 (Dense)              (None, 84)                10164     \n",
      "_________________________________________________________________\n",
      "dropout_1 (Dropout)          (None, 84)                0         \n",
      "_________________________________________________________________\n",
      "dense_3 (Dense)              (None, 1)                 85        \n",
      "=================================================================\n",
      "Total params: 61,329\n",
      "Trainable params: 61,285\n",
      "Non-trainable params: 44\n",
      "_________________________________________________________________\n"
     ]
    }
   ],
   "source": [
    "model = Sequential()\n",
    "model.add(Conv2D(6, kernel_size=(5,5),activation='relu',input_shape=(32,32,3)))\n",
    "model.add(BatchNormalization())\n",
    "model.add(MaxPooling2D(pool_size=2,strides=2))\n",
    "model.add(Conv2D(16,kernel_size=5,strides=1,activation='relu'))\n",
    "model.add(BatchNormalization())\n",
    "model.add(MaxPooling2D(pool_size=2,strides=2))\n",
    "model.add(Flatten())\n",
    "model.add(Dense(120,activation='relu'))\n",
    "model.add(Dense(84,activation='relu'))\n",
    "model.add(Dropout(0.5))\n",
    "model.add(Dense(1,activation='sigmoid'))\n",
    "model.summary()\n",
    "\n",
    "\n",
    "SVG(model_to_dot(model).create(prog='dot', format='svg'))\n",
    "plot_model(model, to_file='model_plot.png', show_shapes=True, show_layer_names=True)"
   ]
  },
  {
   "cell_type": "markdown",
   "metadata": {
    "_uuid": "16b7e675c3db454a5a74b4efb850d141bb395452"
   },
   "source": [
    "# Callbacks\n",
    "### Here we use Keras callbacks to monitor how the training is going and adjust the training accordingly"
   ]
  },
  {
   "cell_type": "code",
   "execution_count": 5,
   "metadata": {
    "_uuid": "f8881bd76bfd702b7ce3e8e4c4d6a76ef46d4595"
   },
   "outputs": [],
   "source": [
    "#-------Callbacks-------------#\n",
    "best_model_weights = './base.model'\n",
    "checkpoint = ModelCheckpoint(\n",
    "    best_model_weights,\n",
    "    monitor='val_loss',\n",
    "    verbose=1,\n",
    "    save_best_only=True,\n",
    "    mode='min',\n",
    "    save_weights_only=False,\n",
    "    period=1\n",
    ")\n",
    "earlystop = EarlyStopping(\n",
    "    monitor='val_loss',\n",
    "    min_delta=0.001,\n",
    "    patience=10,\n",
    "    verbose=1,\n",
    "    mode='auto'\n",
    ")\n",
    "tensorboard = TensorBoard(\n",
    "    log_dir = './logs',\n",
    "    histogram_freq=0,\n",
    "    batch_size=16,\n",
    "    write_graph=True,\n",
    "    write_grads=True,\n",
    "    write_images=False,\n",
    ")\n",
    "\n",
    "csvlogger = CSVLogger(\n",
    "    filename= \"training_csv.log\",\n",
    "    separator = \",\",\n",
    "    append = False\n",
    ")\n",
    "\n",
    "#lrsched = LearningRateScheduler(step_decay,verbose=1)\n",
    "\n",
    "reduce = ReduceLROnPlateau(\n",
    "    monitor='val_loss',\n",
    "    factor=0.5,\n",
    "    patience=5,\n",
    "    verbose=1, \n",
    "    mode='auto',\n",
    "    cooldown=1 \n",
    ")\n",
    "\n",
    "callbacks = [checkpoint,tensorboard,csvlogger,reduce]"
   ]
  },
  {
   "cell_type": "markdown",
   "metadata": {
    "_uuid": "121a6b39dd6719f1f906ff159dfa52da6f1c4e4d"
   },
   "source": [
    "# Train The Model\n",
    "### Here we train the model with our generators"
   ]
  },
  {
   "cell_type": "code",
   "execution_count": 6,
   "metadata": {
    "_uuid": "f25e9778b7fc437c57220c2ce295b1a43c21aa82"
   },
   "outputs": [
    {
     "name": "stdout",
     "output_type": "stream",
     "text": [
      "WARNING:tensorflow:From /opt/conda/lib/python3.6/site-packages/tensorflow/python/ops/math_ops.py:3066: to_int32 (from tensorflow.python.ops.math_ops) is deprecated and will be removed in a future version.\n",
      "Instructions for updating:\n",
      "Use tf.cast instead.\n",
      "Epoch 1/150\n",
      "100/100 [==============================] - 22s 221ms/step - loss: 0.2932 - acc: 0.8869 - val_loss: 0.7192 - val_acc: 0.6372\n",
      "\n",
      "Epoch 00001: val_loss improved from inf to 0.71924, saving model to ./base.model\n",
      "Epoch 2/150\n",
      "100/100 [==============================] - 16s 159ms/step - loss: 0.1846 - acc: 0.9325 - val_loss: 0.7579 - val_acc: 0.7931\n",
      "\n",
      "Epoch 00002: val_loss did not improve from 0.71924\n",
      "Epoch 3/150\n",
      "100/100 [==============================] - 16s 155ms/step - loss: 0.1714 - acc: 0.9306 - val_loss: 1.2538 - val_acc: 0.4341\n",
      "\n",
      "Epoch 00003: val_loss did not improve from 0.71924\n",
      "Epoch 4/150\n",
      "100/100 [==============================] - 16s 157ms/step - loss: 0.1441 - acc: 0.9491 - val_loss: 1.1748 - val_acc: 0.7284\n",
      "\n",
      "Epoch 00004: val_loss did not improve from 0.71924\n",
      "Epoch 5/150\n",
      "100/100 [==============================] - 16s 162ms/step - loss: 0.1543 - acc: 0.9406 - val_loss: 0.2075 - val_acc: 0.9219\n",
      "\n",
      "Epoch 00005: val_loss improved from 0.71924 to 0.20752, saving model to ./base.model\n",
      "Epoch 6/150\n",
      "100/100 [==============================] - 13s 129ms/step - loss: 0.1331 - acc: 0.9489 - val_loss: 0.1616 - val_acc: 0.9419\n",
      "\n",
      "Epoch 00006: val_loss improved from 0.20752 to 0.16165, saving model to ./base.model\n",
      "Epoch 7/150\n",
      "100/100 [==============================] - 11s 112ms/step - loss: 0.1362 - acc: 0.9497 - val_loss: 1.4441 - val_acc: 0.4109\n",
      "\n",
      "Epoch 00007: val_loss did not improve from 0.16165\n",
      "Epoch 8/150\n",
      "100/100 [==============================] - 11s 111ms/step - loss: 0.1390 - acc: 0.9437 - val_loss: 0.2307 - val_acc: 0.9113\n",
      "\n",
      "Epoch 00008: val_loss did not improve from 0.16165\n",
      "Epoch 9/150\n",
      "100/100 [==============================] - 11s 108ms/step - loss: 0.1163 - acc: 0.9522 - val_loss: 0.3685 - val_acc: 0.8541\n",
      "\n",
      "Epoch 00009: val_loss did not improve from 0.16165\n",
      "Epoch 10/150\n",
      "100/100 [==============================] - 11s 112ms/step - loss: 0.1106 - acc: 0.9584 - val_loss: 0.1174 - val_acc: 0.9522\n",
      "\n",
      "Epoch 00010: val_loss improved from 0.16165 to 0.11736, saving model to ./base.model\n",
      "Epoch 11/150\n",
      "100/100 [==============================] - 12s 119ms/step - loss: 0.1155 - acc: 0.9571 - val_loss: 0.0765 - val_acc: 0.9681\n",
      "\n",
      "Epoch 00011: val_loss improved from 0.11736 to 0.07646, saving model to ./base.model\n",
      "Epoch 12/150\n",
      "100/100 [==============================] - 11s 110ms/step - loss: 0.0979 - acc: 0.9591 - val_loss: 0.3241 - val_acc: 0.8819\n",
      "\n",
      "Epoch 00012: val_loss did not improve from 0.07646\n",
      "Epoch 13/150\n",
      "100/100 [==============================] - 11s 106ms/step - loss: 0.1057 - acc: 0.9613 - val_loss: 0.4647 - val_acc: 0.7950\n",
      "\n",
      "Epoch 00013: val_loss did not improve from 0.07646\n",
      "Epoch 14/150\n",
      "100/100 [==============================] - 11s 107ms/step - loss: 0.1166 - acc: 0.9525 - val_loss: 0.3013 - val_acc: 0.8781\n",
      "\n",
      "Epoch 00014: val_loss did not improve from 0.07646\n",
      "Epoch 15/150\n",
      "100/100 [==============================] - 11s 107ms/step - loss: 0.1020 - acc: 0.9609 - val_loss: 0.7051 - val_acc: 0.7916\n",
      "\n",
      "Epoch 00015: val_loss did not improve from 0.07646\n",
      "Epoch 16/150\n",
      "100/100 [==============================] - 11s 111ms/step - loss: 0.0863 - acc: 0.9703 - val_loss: 0.2436 - val_acc: 0.9441\n",
      "\n",
      "Epoch 00016: val_loss did not improve from 0.07646\n",
      "\n",
      "Epoch 00016: ReduceLROnPlateau reducing learning rate to 0.0005000000237487257.\n",
      "Epoch 17/150\n",
      "100/100 [==============================] - 11s 106ms/step - loss: 0.0752 - acc: 0.9712 - val_loss: 0.2289 - val_acc: 0.9216\n",
      "\n",
      "Epoch 00017: val_loss did not improve from 0.07646\n",
      "Epoch 18/150\n",
      "100/100 [==============================] - 11s 107ms/step - loss: 0.1009 - acc: 0.9637 - val_loss: 0.1504 - val_acc: 0.9459\n",
      "\n",
      "Epoch 00018: val_loss did not improve from 0.07646\n",
      "Epoch 19/150\n",
      "100/100 [==============================] - 11s 106ms/step - loss: 0.0806 - acc: 0.9712 - val_loss: 0.1628 - val_acc: 0.9353\n",
      "\n",
      "Epoch 00019: val_loss did not improve from 0.07646\n",
      "Epoch 20/150\n",
      "100/100 [==============================] - 11s 113ms/step - loss: 0.0683 - acc: 0.9762 - val_loss: 0.2011 - val_acc: 0.9300\n",
      "\n",
      "Epoch 00020: val_loss did not improve from 0.07646\n",
      "Epoch 21/150\n",
      "100/100 [==============================] - 11s 108ms/step - loss: 0.0755 - acc: 0.9719 - val_loss: 0.1869 - val_acc: 0.9244\n",
      "\n",
      "Epoch 00021: val_loss did not improve from 0.07646\n",
      "\n",
      "Epoch 00021: ReduceLROnPlateau reducing learning rate to 0.0002500000118743628.\n",
      "Epoch 22/150\n",
      "100/100 [==============================] - 11s 107ms/step - loss: 0.0752 - acc: 0.9721 - val_loss: 0.3649 - val_acc: 0.8759\n",
      "\n",
      "Epoch 00022: val_loss did not improve from 0.07646\n",
      "Epoch 23/150\n",
      "100/100 [==============================] - 11s 108ms/step - loss: 0.0637 - acc: 0.9750 - val_loss: 0.2119 - val_acc: 0.9213\n",
      "\n",
      "Epoch 00023: val_loss did not improve from 0.07646\n",
      "Epoch 24/150\n",
      "100/100 [==============================] - 11s 108ms/step - loss: 0.0678 - acc: 0.9759 - val_loss: 0.1902 - val_acc: 0.9341\n",
      "\n",
      "Epoch 00024: val_loss did not improve from 0.07646\n",
      "Epoch 25/150\n",
      "100/100 [==============================] - 11s 108ms/step - loss: 0.0714 - acc: 0.9741 - val_loss: 0.1039 - val_acc: 0.9587\n",
      "\n",
      "Epoch 00025: val_loss did not improve from 0.07646\n",
      "Epoch 26/150\n",
      "100/100 [==============================] - 11s 109ms/step - loss: 0.0751 - acc: 0.9731 - val_loss: 0.3841 - val_acc: 0.8416\n",
      "\n",
      "Epoch 00026: val_loss did not improve from 0.07646\n",
      "\n",
      "Epoch 00026: ReduceLROnPlateau reducing learning rate to 0.0001250000059371814.\n",
      "Epoch 27/150\n",
      "100/100 [==============================] - 11s 110ms/step - loss: 0.0702 - acc: 0.9741 - val_loss: 0.1263 - val_acc: 0.9491\n",
      "\n",
      "Epoch 00027: val_loss did not improve from 0.07646\n",
      "Epoch 28/150\n",
      "100/100 [==============================] - 11s 109ms/step - loss: 0.0569 - acc: 0.9797 - val_loss: 0.1292 - val_acc: 0.9534\n",
      "\n",
      "Epoch 00028: val_loss did not improve from 0.07646\n",
      "Epoch 29/150\n",
      "100/100 [==============================] - 11s 108ms/step - loss: 0.0767 - acc: 0.9747 - val_loss: 0.1571 - val_acc: 0.9381\n",
      "\n",
      "Epoch 00029: val_loss did not improve from 0.07646\n",
      "Epoch 30/150\n",
      "100/100 [==============================] - 11s 107ms/step - loss: 0.0529 - acc: 0.9800 - val_loss: 0.2136 - val_acc: 0.9222\n",
      "\n",
      "Epoch 00030: val_loss did not improve from 0.07646\n",
      "Epoch 31/150\n",
      "100/100 [==============================] - 11s 107ms/step - loss: 0.0483 - acc: 0.9809 - val_loss: 0.0979 - val_acc: 0.9631\n",
      "\n",
      "Epoch 00031: val_loss did not improve from 0.07646\n",
      "\n",
      "Epoch 00031: ReduceLROnPlateau reducing learning rate to 6.25000029685907e-05.\n",
      "Epoch 32/150\n",
      "100/100 [==============================] - 10s 104ms/step - loss: 0.0654 - acc: 0.9775 - val_loss: 0.1055 - val_acc: 0.9603\n",
      "\n",
      "Epoch 00032: val_loss did not improve from 0.07646\n",
      "Epoch 33/150\n",
      "100/100 [==============================] - 11s 105ms/step - loss: 0.0723 - acc: 0.9753 - val_loss: 0.1279 - val_acc: 0.9534\n",
      "\n",
      "Epoch 00033: val_loss did not improve from 0.07646\n",
      "Epoch 34/150\n",
      "100/100 [==============================] - 11s 106ms/step - loss: 0.0644 - acc: 0.9756 - val_loss: 0.1450 - val_acc: 0.9447\n",
      "\n",
      "Epoch 00034: val_loss did not improve from 0.07646\n",
      "Epoch 35/150\n",
      "100/100 [==============================] - 10s 105ms/step - loss: 0.0525 - acc: 0.9813 - val_loss: 0.1054 - val_acc: 0.9563\n",
      "\n",
      "Epoch 00035: val_loss did not improve from 0.07646\n",
      "Epoch 36/150\n",
      "100/100 [==============================] - 11s 105ms/step - loss: 0.0514 - acc: 0.9803 - val_loss: 0.0711 - val_acc: 0.9731\n",
      "\n",
      "Epoch 00036: val_loss improved from 0.07646 to 0.07105, saving model to ./base.model\n",
      "Epoch 37/150\n",
      "100/100 [==============================] - 11s 106ms/step - loss: 0.0583 - acc: 0.9797 - val_loss: 0.1149 - val_acc: 0.9566\n",
      "\n",
      "Epoch 00037: val_loss did not improve from 0.07105\n",
      "Epoch 38/150\n",
      "100/100 [==============================] - 13s 134ms/step - loss: 0.0530 - acc: 0.9828 - val_loss: 0.1319 - val_acc: 0.9475\n",
      "\n",
      "Epoch 00038: val_loss did not improve from 0.07105\n",
      "Epoch 39/150\n",
      "100/100 [==============================] - 12s 121ms/step - loss: 0.0462 - acc: 0.9856 - val_loss: 0.1800 - val_acc: 0.9331\n",
      "\n",
      "Epoch 00039: val_loss did not improve from 0.07105\n",
      "Epoch 40/150\n",
      "100/100 [==============================] - 13s 133ms/step - loss: 0.0621 - acc: 0.9797 - val_loss: 0.0670 - val_acc: 0.9772\n",
      "\n",
      "Epoch 00040: val_loss improved from 0.07105 to 0.06700, saving model to ./base.model\n",
      "Epoch 41/150\n",
      "100/100 [==============================] - 12s 119ms/step - loss: 0.0483 - acc: 0.9834 - val_loss: 0.1294 - val_acc: 0.9537\n",
      "\n",
      "Epoch 00041: val_loss did not improve from 0.06700\n",
      "Epoch 42/150\n",
      "100/100 [==============================] - 11s 114ms/step - loss: 0.0672 - acc: 0.9756 - val_loss: 0.1503 - val_acc: 0.9422\n",
      "\n",
      "Epoch 00042: val_loss did not improve from 0.06700\n",
      "Epoch 43/150\n",
      "100/100 [==============================] - 11s 115ms/step - loss: 0.0591 - acc: 0.9772 - val_loss: 0.1630 - val_acc: 0.9325\n",
      "\n",
      "Epoch 00043: val_loss did not improve from 0.06700\n",
      "Epoch 44/150\n",
      "100/100 [==============================] - 13s 127ms/step - loss: 0.0635 - acc: 0.9775 - val_loss: 0.1763 - val_acc: 0.9347\n",
      "\n",
      "Epoch 00044: val_loss did not improve from 0.06700\n",
      "Epoch 45/150\n",
      "100/100 [==============================] - 12s 117ms/step - loss: 0.0540 - acc: 0.9797 - val_loss: 0.1501 - val_acc: 0.9431\n",
      "\n",
      "Epoch 00045: val_loss did not improve from 0.06700\n",
      "\n",
      "Epoch 00045: ReduceLROnPlateau reducing learning rate to 3.125000148429535e-05.\n",
      "Epoch 46/150\n",
      "100/100 [==============================] - 11s 110ms/step - loss: 0.0511 - acc: 0.9831 - val_loss: 0.2055 - val_acc: 0.9197\n",
      "\n",
      "Epoch 00046: val_loss did not improve from 0.06700\n",
      "Epoch 47/150\n",
      "100/100 [==============================] - 12s 122ms/step - loss: 0.0473 - acc: 0.9838 - val_loss: 0.1310 - val_acc: 0.9516\n",
      "\n",
      "Epoch 00047: val_loss did not improve from 0.06700\n",
      "Epoch 48/150\n",
      "100/100 [==============================] - 11s 108ms/step - loss: 0.0527 - acc: 0.9825 - val_loss: 0.1577 - val_acc: 0.9406\n",
      "\n",
      "Epoch 00048: val_loss did not improve from 0.06700\n",
      "Epoch 49/150\n",
      "100/100 [==============================] - 11s 107ms/step - loss: 0.0500 - acc: 0.9806 - val_loss: 0.1327 - val_acc: 0.9569\n",
      "\n",
      "Epoch 00049: val_loss did not improve from 0.06700\n",
      "Epoch 50/150\n",
      "100/100 [==============================] - 11s 107ms/step - loss: 0.0538 - acc: 0.9800 - val_loss: 0.0925 - val_acc: 0.9669\n",
      "\n",
      "Epoch 00050: val_loss did not improve from 0.06700\n",
      "\n",
      "Epoch 00050: ReduceLROnPlateau reducing learning rate to 1.5625000742147677e-05.\n",
      "Epoch 51/150\n",
      "100/100 [==============================] - 11s 108ms/step - loss: 0.0590 - acc: 0.9769 - val_loss: 0.1290 - val_acc: 0.9500\n",
      "\n",
      "Epoch 00051: val_loss did not improve from 0.06700\n",
      "Epoch 52/150\n",
      "100/100 [==============================] - 11s 107ms/step - loss: 0.0478 - acc: 0.9828 - val_loss: 0.1203 - val_acc: 0.9553\n",
      "\n",
      "Epoch 00052: val_loss did not improve from 0.06700\n",
      "Epoch 53/150\n",
      "100/100 [==============================] - 11s 107ms/step - loss: 0.0525 - acc: 0.9806 - val_loss: 0.1331 - val_acc: 0.9472\n",
      "\n",
      "Epoch 00053: val_loss did not improve from 0.06700\n",
      "Epoch 54/150\n",
      "100/100 [==============================] - 11s 107ms/step - loss: 0.0573 - acc: 0.9784 - val_loss: 0.1323 - val_acc: 0.9481\n",
      "\n",
      "Epoch 00054: val_loss did not improve from 0.06700\n",
      "Epoch 55/150\n",
      "100/100 [==============================] - 10s 105ms/step - loss: 0.0485 - acc: 0.9847 - val_loss: 0.0687 - val_acc: 0.9753\n",
      "\n",
      "Epoch 00055: val_loss did not improve from 0.06700\n",
      "\n",
      "Epoch 00055: ReduceLROnPlateau reducing learning rate to 7.812500371073838e-06.\n",
      "Epoch 56/150\n",
      "100/100 [==============================] - 10s 105ms/step - loss: 0.0510 - acc: 0.9822 - val_loss: 0.1574 - val_acc: 0.9431\n",
      "\n",
      "Epoch 00056: val_loss did not improve from 0.06700\n",
      "Epoch 57/150\n",
      "100/100 [==============================] - 10s 104ms/step - loss: 0.0511 - acc: 0.9822 - val_loss: 0.1377 - val_acc: 0.9491\n",
      "\n",
      "Epoch 00057: val_loss did not improve from 0.06700\n",
      "Epoch 58/150\n",
      "100/100 [==============================] - 10s 104ms/step - loss: 0.0431 - acc: 0.9856 - val_loss: 0.1386 - val_acc: 0.9487\n",
      "\n",
      "Epoch 00058: val_loss did not improve from 0.06700\n",
      "Epoch 59/150\n",
      "100/100 [==============================] - 10s 103ms/step - loss: 0.0511 - acc: 0.9816 - val_loss: 0.1243 - val_acc: 0.9563\n",
      "\n",
      "Epoch 00059: val_loss did not improve from 0.06700\n",
      "Epoch 60/150\n",
      "100/100 [==============================] - 12s 119ms/step - loss: 0.0531 - acc: 0.9831 - val_loss: 0.0630 - val_acc: 0.9769\n",
      "\n",
      "Epoch 00060: val_loss improved from 0.06700 to 0.06300, saving model to ./base.model\n",
      "Epoch 61/150\n",
      "100/100 [==============================] - 12s 122ms/step - loss: 0.0559 - acc: 0.9806 - val_loss: 0.1258 - val_acc: 0.9534\n",
      "\n",
      "Epoch 00061: val_loss did not improve from 0.06300\n",
      "Epoch 62/150\n",
      "100/100 [==============================] - 11s 114ms/step - loss: 0.0491 - acc: 0.9819 - val_loss: 0.1291 - val_acc: 0.9522\n",
      "\n",
      "Epoch 00062: val_loss did not improve from 0.06300\n",
      "Epoch 63/150\n",
      "100/100 [==============================] - 11s 113ms/step - loss: 0.0569 - acc: 0.9809 - val_loss: 0.1433 - val_acc: 0.9463\n",
      "\n",
      "Epoch 00063: val_loss did not improve from 0.06300\n",
      "Epoch 64/150\n",
      "100/100 [==============================] - 11s 113ms/step - loss: 0.0511 - acc: 0.9825 - val_loss: 0.1337 - val_acc: 0.9478\n",
      "\n",
      "Epoch 00064: val_loss did not improve from 0.06300\n",
      "Epoch 65/150\n",
      "100/100 [==============================] - 12s 119ms/step - loss: 0.0487 - acc: 0.9813 - val_loss: 0.0678 - val_acc: 0.9734\n",
      "\n",
      "Epoch 00065: val_loss did not improve from 0.06300\n",
      "\n",
      "Epoch 00065: ReduceLROnPlateau reducing learning rate to 3.906250185536919e-06.\n",
      "Epoch 66/150\n",
      "100/100 [==============================] - 11s 114ms/step - loss: 0.0613 - acc: 0.9781 - val_loss: 0.1264 - val_acc: 0.9550\n",
      "\n",
      "Epoch 00066: val_loss did not improve from 0.06300\n",
      "Epoch 67/150\n",
      "100/100 [==============================] - 12s 121ms/step - loss: 0.0551 - acc: 0.9831 - val_loss: 0.1281 - val_acc: 0.9550\n",
      "\n",
      "Epoch 00067: val_loss did not improve from 0.06300\n",
      "Epoch 68/150\n",
      "100/100 [==============================] - 12s 120ms/step - loss: 0.0451 - acc: 0.9847 - val_loss: 0.1460 - val_acc: 0.9425\n",
      "\n",
      "Epoch 00068: val_loss did not improve from 0.06300\n",
      "Epoch 69/150\n",
      "100/100 [==============================] - 11s 106ms/step - loss: 0.0469 - acc: 0.9834 - val_loss: 0.1339 - val_acc: 0.9509\n",
      "\n",
      "Epoch 00069: val_loss did not improve from 0.06300\n",
      "Epoch 70/150\n",
      " 66/100 [==================>...........] - ETA: 2s - loss: 0.0571 - acc: 0.9782"
     ]
    }
   ],
   "source": [
    "opt = SGD(lr=2e-4,momentum=0.99)\n",
    "opt1 = Adam(lr=1e-2)\n",
    "\n",
    "model.compile(\n",
    "    loss='binary_crossentropy',\n",
    "    optimizer='adam',\n",
    "    metrics=['accuracy']\n",
    ")\n",
    "    \n",
    "history = model.fit_generator(\n",
    "    train_gen, \n",
    "    validation_data = test_gen,\n",
    "    validation_steps = 100,\n",
    "    steps_per_epoch  = 100, \n",
    "    epochs = 150,\n",
    "    verbose = 1,\n",
    "    callbacks=callbacks\n",
    ")"
   ]
  },
  {
   "cell_type": "markdown",
   "metadata": {
    "_uuid": "1c6151b7c844c926de79b1daa5057ad9216350f5"
   },
   "source": [
    "# Evaluation\n",
    "### Here we visualize the training, load the the best weights from the model, evaluate the model, and save the weights"
   ]
  },
  {
   "cell_type": "code",
   "execution_count": 7,
   "metadata": {
    "_uuid": "7fb9dc4c4e770c6d250dcd027a7429b3da9e0c81"
   },
   "outputs": [
    {
     "name": "stdout",
     "output_type": "stream",
     "text": [
      "Model Test Loss: 0.12934083854808706\n",
      "Model Test Accuracy: 0.9503125\n",
      "Weights Saved\n"
     ]
    },
    {
     "data": {
      "image/png": "[encoded data removed]",
      "text/plain": [
       "<Figure size 1080x360 with 2 Axes>"
      ]
     },
     "metadata": {},
     "output_type": "display_data"
    }
   ],
   "source": [
    "show_final_history(history)\n",
    "model.load_weights(best_model_weights)\n",
    "model_eval = model.evaluate_generator(test_gen,steps=100)\n",
    "print(\"Model Test Loss:\",model_eval[0])\n",
    "print(\"Model Test Accuracy:\",model_eval[1])\n",
    "\n",
    "model_json = model.to_json()\n",
    "with open(\"model.json\",\"w\") as json_file:\n",
    "    json_file.write(model_json)\n",
    "    \n",
    "model.save(\"model.h5\")\n",
    "print(\"Weights Saved\")"
   ]
  },
  {
   "cell_type": "markdown",
   "metadata": {
    "_uuid": "0b05cdf1c5e928febffe22364aec0a972798b096"
   },
   "source": [
    "# TensorBoard\n",
    "### Here is a script that will give you a url to view your model's training results."
   ]
  },
  {
   "cell_type": "code",
   "execution_count": 8,
   "metadata": {
    "_uuid": "f925d452e2901ca4cdc1cf6b5bbded21621d7bbe"
   },
   "outputs": [
    {
     "name": "stdout",
     "output_type": "stream",
     "text": [
      "--2019-03-24 15:48:30--  https://bin.equinox.io/c/4VmDzA7iaHb/ngrok-stable-linux-amd64.zip\r\n",
      "Resolving bin.equinox.io (bin.equinox.io)... 3.92.108.98, 52.4.75.11, 54.174.228.92, ...\r\n",
      "Connecting to bin.equinox.io (bin.equinox.io)|3.92.108.98|:443... connected.\r\n",
      "HTTP request sent, awaiting response... 200 OK\r\n",
      "Length: 13584026 (13M) [application/octet-stream]\r\n",
      "Saving to: ‘ngrok-stable-linux-amd64.zip’\r\n",
      "\r\n",
      "ngrok-stable-linux- 100%[===================>]  12.95M  36.3MB/s    in 0.4s    \r\n",
      "\r\n",
      "2019-03-24 15:48:31 (36.3 MB/s) - ‘ngrok-stable-linux-amd64.zip’ saved [13584026/13584026]\r\n",
      "\r\n",
      "Archive:  ngrok-stable-linux-amd64.zip\r\n",
      "  inflating: ngrok                   \r\n",
      "https://31be8135.ngrok.io\r\n"
     ]
    }
   ],
   "source": [
    "!wget https://bin.equinox.io/c/4VmDzA7iaHb/ngrok-stable-linux-amd64.zip\n",
    "!unzip ngrok-stable-linux-amd64.zip\n",
    "LOG_DIR = './logs' # Here you have to put your log directory\n",
    "get_ipython().system_raw(\n",
    "    'tensorboard --logdir {} --host 0.0.0.0 --port 8080 &'\n",
    "    .format(LOG_DIR)\n",
    ")\n",
    "get_ipython().system_raw('./ngrok http 8080 &')\n",
    "! curl -s http://localhost:4040/api/tunnels | python3 -c \\\n",
    "    \"import sys, json; print(json.load(sys.stdin)['tunnels'][0]['public_url'])\""
   ]
  },
  {
   "cell_type": "code",
   "execution_count": 9,
   "metadata": {
    "_uuid": "adebe9522409845e3c2dc53ba171772099fe519c"
   },
   "outputs": [],
   "source": []
  }
 ],
 "metadata": {
  "kernelspec": {
   "display_name": "Python 3",
   "language": "python",
   "name": "python3"
  },
  "language_info": {
   "codemirror_mode": {
    "name": "ipython",
    "version": 3
   },
   "file_extension": ".py",
   "mimetype": "text/x-python",
   "name": "python",
   "nbconvert_exporter": "python",
   "pygments_lexer": "ipython3",
   "version": "3.6.6"
  }
 },
 "nbformat": 4,
 "nbformat_minor": 1
}
